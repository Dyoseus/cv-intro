{
 "cells": [
  {
   "cell_type": "code",
   "execution_count": 48,
   "metadata": {},
   "outputs": [],
   "source": [
    "import cv2\n",
    "import numpy as np\n",
    "import matplotlib.pyplot as plt"
   ]
  },
  {
   "cell_type": "code",
   "execution_count": 60,
   "metadata": {},
   "outputs": [],
   "source": [
    "def detect_lines(img, threshold1, threshold2, apertureSize, minLineLength, maxLineGap):\n",
    "    img = cv2.imread(str(img))\n",
    "\n",
    "    gray = cv2.cvtColor(img, cv2.COLOR_BGR2GRAY) # convert to grayscale\n",
    "    edges = cv2.Canny(gray, threshold1, threshold2, apertureSize) # detect edges\n",
    "\n",
    "    lines = cv2.HoughLinesP(edges, 1, np.pi/180, 1, minLineLength, maxLineGap) # detect lines\n",
    "\n",
    "    return lines\n",
    "\n",
    "def draw_lines(img, lines, color=(255, 0, 0)):\n",
    "    img = cv2.imread(img)\n",
    "    for line in lines:\n",
    "        x1, y1, x2, y2 = line[0]\n",
    "        cv2.line(img, (x1, y1), (x2, y2), color, 2)\n",
    "\n",
    "    # Moved the imshow outside the loop\n",
    "    show = plt.imshow(cv2.cvtColor(img, cv2.COLOR_BGR2RGB))\n",
    "    return show\n",
    "        \n",
    "\n",
    "def get_slopes_intercepts(lines):\n",
    "    slopes = []\n",
    "    intercepts = []\n",
    "    for i in range(len(lines)):\n",
    "        x1, y1, x2, y2 = lines[i]\n",
    "        slopes.append((y2-y1)/(x2-x1))\n",
    "\n",
    "    for i in range(len(slopes)):\n",
    "        x1, y1, x2, y2 = lines[i]\n",
    "        slopie = slopes[i]\n",
    "        b = y1-(slopie*x1)\n",
    "        intercepts.append(b)\n",
    "\n",
    "        return intercepts\n",
    "    \n",
    "    return slopes, intercepts\n",
    "\n",
    "def detect_lanes(lines):\n",
    "    i = 0\n",
    "    lanes = []\n",
    "    slopes, x_intercepts = get_slopes_intercepts(lines)\n",
    "\n",
    "    while i < range(slopes):\n",
    "        if slopes[i] - slopes[i+1] == range (-0.3, 0.3) or slopes[i+1] - slopes[i] == range (-0.3, 0.3):\n",
    "            lanes.append([lines[i], lines[i+1]])\n",
    "            i+=2\n",
    "        else:\n",
    "            if np.abs(slopes[i+1] - slopes[i]) < 2 and np.abs(x_intercepts[i+1]-[i]) < 200:\n",
    "                lanes.append([lines[i], lines[i+1]])\n",
    "                i+=2\n",
    "            else:\n",
    "                i+=1\n",
    "\n",
    "    return lanes\n"
   ]
  },
  {
   "cell_type": "code",
   "execution_count": 61,
   "metadata": {},
   "outputs": [
    {
     "name": "stdout",
     "output_type": "stream",
     "text": [
      "None\n"
     ]
    }
   ],
   "source": [
    "\n",
    "\n",
    "line = detect_lines('rov_pool.jpg', 50, 150, 1, 300, 200)\n",
    "\n",
    "print(line)\n",
    "#draw_lines('lanes.png', line)"
   ]
  }
 ],
 "metadata": {
  "kernelspec": {
   "display_name": "bluecv",
   "language": "python",
   "name": "python3"
  },
  "language_info": {
   "codemirror_mode": {
    "name": "ipython",
    "version": 3
   },
   "file_extension": ".py",
   "mimetype": "text/x-python",
   "name": "python",
   "nbconvert_exporter": "python",
   "pygments_lexer": "ipython3",
   "version": "3.9.2"
  },
  "orig_nbformat": 4
 },
 "nbformat": 4,
 "nbformat_minor": 2
}
